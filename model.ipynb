{
 "cells": [
  {
   "cell_type": "code",
   "execution_count": null,
   "metadata": {},
   "outputs": [],
   "source": [
    "pip install pandas numpy matplotlib seaborn scikitlearn"
   ]
  },
  {
   "cell_type": "code",
   "execution_count": null,
   "metadata": {},
   "outputs": [],
   "source": [
    "import pandas as pd\n",
    "import numpy as np\n",
    "import matplotlib.pyplot as plt\n",
    "import seaborn as sns\n",
    "from sklearn import preprocessing"
   ]
  },
  {
   "cell_type": "code",
   "execution_count": null,
   "metadata": {},
   "outputs": [],
   "source": [
    "ipl = pd.read_csv('ipl_dataset.csv')\n",
    "ipl.head()"
   ]
  },
  {
   "cell_type": "code",
   "execution_count": null,
   "metadata": {},
   "outputs": [],
   "source": [
    "data = pd.read_csv('IPL Player Stats - 2016 till 2019.csv')\n",
    "data.head()"
   ]
  },
  {
   "cell_type": "code",
   "execution_count": null,
   "metadata": {},
   "outputs": [],
   "source": [
    "ipl= ipl.drop(['Unnamed: 0','extras','match_id', 'runs_off_bat'],axis = 1)\n",
    "new_ipl = pd.merge(ipl,data,left_on='striker',right_on='Player',how='left')\n",
    "new_ipl.drop(['wicket_type', 'player_dismissed'],axis=1,inplace=True)\n",
    "new_ipl.columns"
   ]
  },
  {
   "cell_type": "code",
   "execution_count": null,
   "metadata": {},
   "outputs": [],
   "source": [
    "str_cols = new_ipl.columns[new_ipl.dtypes==object]\n",
    "new_ipl[str_cols] = new_ipl[str_cols].fillna('.')"
   ]
  },
  {
   "cell_type": "code",
   "execution_count": null,
   "metadata": {},
   "outputs": [],
   "source": [
    "listf = []\n",
    "\n",
    "for c in new_ipl.columns:\n",
    "\tif new_ipl.dtype==object:\n",
    "\t\tprint(c,\"->\" ,new_ipl.dtype)\n",
    "\t\tlistf.append(c)\n"
   ]
  },
  {
   "cell_type": "code",
   "execution_count": null,
   "metadata": {},
   "outputs": [],
   "source": [
    "a1 = new_ipl['venue'].unique()\n",
    "a2 = new_ipl['batting_team'].unique()\n",
    "a3 = new_ipl['bowling_team'].unique()\n",
    "a4 = new_ipl['striker'].unique()\n",
    "a5 = new_ipl['bowler'].unique()\n",
    "\n",
    "def labelEncoding(data):\n",
    "\tdataset = pd.DataFrame(new_ipl)\n",
    "\tfeature_dict ={}\n",
    "\t\n",
    "\tfor feature in dataset:\n",
    "\t\tif dataset[feature].dtype==object:\n",
    "\t\t\tle = preprocessing.LabelEncoder()\n",
    "\t\t\tfs = dataset[feature].unique()\n",
    "\t\t\tle.fit(fs)\n",
    "\t\t\tdataset[feature] = le.transform(dataset[feature])\n",
    "\t\t\tfeature_dict[feature] = le\n",
    "\t\t\t\n",
    "\treturn dataset\n",
    "\n",
    "labelEncoding(new_ipl)"
   ]
  },
  {
   "cell_type": "code",
   "execution_count": null,
   "metadata": {},
   "outputs": [],
   "source": [
    "ip_dataset = new_ipl[['venue','innings', 'batting_team',\n",
    "\t\t\t\t\t'bowling_team', 'striker', 'non_striker',\n",
    "\t\t\t\t\t'bowler']]\n",
    "\n",
    "b1 = ip_dataset['venue'].unique()\n",
    "b2 = ip_dataset['batting_team'].unique()\n",
    "b3 = ip_dataset['bowling_team'].unique()\n",
    "b4 = ip_dataset['striker'].unique()\n",
    "b5 = ip_dataset['bowler'].unique()\n",
    "new_ipl.fillna(0,inplace=True)\n",
    "\n",
    "features={}\n",
    "\n",
    "for i in range(len(a1)):\n",
    "\tfeatures[a1[i]]=b1[i]\n",
    "for i in range(len(a2)):\n",
    "\tfeatures[a2[i]]=b2[i]\n",
    "for i in range(len(a3)):\n",
    "\tfeatures[a3[i]]=b3[i]\n",
    "for i in range(len(a4)):\n",
    "\tfeatures[a4[i]]=b4[i]\n",
    "for i in range(len(a5)):\n",
    "\tfeatures[a5[i]]=b5[i]\n",
    "\t\n",
    "features"
   ]
  },
  {
   "cell_type": "code",
   "execution_count": null,
   "metadata": {},
   "outputs": [],
   "source": [
    "X = new_ipl[['venue', 'innings','batting_team',\n",
    "\t\t\t'bowling_team', 'striker','bowler']].values\n",
    "y = new_ipl['y'].values\n",
    "\n",
    "from sklearn.model_selection import train_test_split\n",
    "\n",
    "X_train, X_test, y_train, y_test = train_test_split(\n",
    "X, y, test_size=0.33, random_state=42)"
   ]
  },
  {
   "cell_type": "code",
   "execution_count": null,
   "metadata": {},
   "outputs": [],
   "source": [
    "from sklearn.preprocessing import MinMaxScaler\n",
    "scaler = MinMaxScaler()\n",
    "\n",
    "X_train = scaler.fit_transform(X_train)\n",
    "X_test = scaler.transform(X_test)"
   ]
  },
  {
   "cell_type": "code",
   "execution_count": null,
   "metadata": {},
   "outputs": [],
   "source": [
    "from tensorflow.keras.models import Sequential\n",
    "from tensorflow.keras.layers import Dense,Dropout\n",
    "from tensorflow.keras.callbacks import EarlyStopping"
   ]
  },
  {
   "cell_type": "code",
   "execution_count": null,
   "metadata": {},
   "outputs": [],
   "source": [
    "model = Sequential()\n",
    "  \n",
    "model.add(Dense(43, activation='relu'))\n",
    "model.add(Dropout(0.5))\n",
    "  \n",
    "model.add(Dense(22, activation='relu'))\n",
    "model.add(Dropout(0.5))\n",
    "  \n",
    "model.add(Dense(11, activation='relu'))\n",
    "model.add(Dropout(0.5))\n",
    "  \n",
    "model.add(Dense(1))\n",
    "  \n",
    "model.compile(optimizer='adam', loss='mse')"
   ]
  }
 ],
 "metadata": {
  "language_info": {
   "name": "python"
  },
  "orig_nbformat": 4
 },
 "nbformat": 4,
 "nbformat_minor": 2
}
