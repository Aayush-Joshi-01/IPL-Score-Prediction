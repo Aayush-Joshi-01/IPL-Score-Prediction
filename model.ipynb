{
 "cells": [
  {
   "cell_type": "code",
   "execution_count": null,
   "metadata": {},
   "outputs": [],
   "source": [
    "pip install pandas numpy matplotlib seaborn scikitlearn"
   ]
  },
  {
   "cell_type": "code",
   "execution_count": null,
   "metadata": {},
   "outputs": [],
   "source": [
    "import pandas as pd\n",
    "import numpy as np\n",
    "import matplotlib.pyplot as plt\n",
    "import seaborn as sns\n",
    "from sklearn import preprocessing"
   ]
  },
  {
   "cell_type": "code",
   "execution_count": null,
   "metadata": {},
   "outputs": [],
   "source": [
    "ipl = pd.read_csv('ipl_dataset.csv')\n",
    "ipl.head()"
   ]
  },
  {
   "cell_type": "code",
   "execution_count": null,
   "metadata": {},
   "outputs": [],
   "source": [
    "data = pd.read_csv('IPL Player Stats - 2016 till 2019.csv')\n",
    "data.head()"
   ]
  },
  {
   "cell_type": "code",
   "execution_count": null,
   "metadata": {},
   "outputs": [],
   "source": [
    "ipl= ipl.drop(['Unnamed: 0','extras','match_id', 'runs_off_bat'],axis = 1)\n",
    "new_ipl = pd.merge(ipl,data,left_on='striker',right_on='Player',how='left')\n",
    "new_ipl.drop(['wicket_type', 'player_dismissed'],axis=1,inplace=True)\n",
    "new_ipl.columns"
   ]
  },
  {
   "cell_type": "code",
   "execution_count": null,
   "metadata": {},
   "outputs": [],
   "source": [
    "str_cols = new_ipl.columns[new_ipl.dtypes==object]\n",
    "new_ipl[str_cols] = new_ipl[str_cols].fillna('.')"
   ]
  },
  {
   "cell_type": "code",
   "execution_count": null,
   "metadata": {},
   "outputs": [],
   "source": [
    "listf = []\n",
    "\n",
    "for c in new_ipl.columns:\n",
    "\tif new_ipl.dtype==object:\n",
    "\t\tprint(c,\"->\" ,new_ipl.dtype)\n",
    "\t\tlistf.append(c)\n"
   ]
  },
  {
   "cell_type": "code",
   "execution_count": null,
   "metadata": {},
   "outputs": [],
   "source": [
    "a1 = new_ipl['venue'].unique()\n",
    "a2 = new_ipl['batting_team'].unique()\n",
    "a3 = new_ipl['bowling_team'].unique()\n",
    "a4 = new_ipl['striker'].unique()\n",
    "a5 = new_ipl['bowler'].unique()\n",
    "\n",
    "def labelEncoding(data):\n",
    "\tdataset = pd.DataFrame(new_ipl)\n",
    "\tfeature_dict ={}\n",
    "\t\n",
    "\tfor feature in dataset:\n",
    "\t\tif dataset[feature].dtype==object:\n",
    "\t\t\tle = preprocessing.LabelEncoder()\n",
    "\t\t\tfs = dataset[feature].unique()\n",
    "\t\t\tle.fit(fs)\n",
    "\t\t\tdataset[feature] = le.transform(dataset[feature])\n",
    "\t\t\tfeature_dict[feature] = le\n",
    "\t\t\t\n",
    "\treturn dataset\n",
    "\n",
    "labelEncoding(new_ipl)\n"
   ]
  }
 ],
 "metadata": {
  "language_info": {
   "name": "python"
  },
  "orig_nbformat": 4
 },
 "nbformat": 4,
 "nbformat_minor": 2
}
